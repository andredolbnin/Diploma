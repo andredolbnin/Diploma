{
 "cells": [
  {
   "cell_type": "code",
   "execution_count": 1,
   "metadata": {},
   "outputs": [],
   "source": [
    "import numpy as np\n",
    "#from numpy import linalg \n",
    "import matplotlib.pyplot as plt\n",
    "import scipy as sp\n",
    "from scipy.sparse import linalg"
   ]
  },
  {
   "cell_type": "code",
   "execution_count": 2,
   "metadata": {},
   "outputs": [],
   "source": [
    "#integral\n",
    "def I(a, b, xm, N):\n",
    "    H = (b - a) / N\n",
    "    X = np.zeros((N, 1))\n",
    "    F = np.zeros((N, 1), dtype = np.complex)\n",
    "    sum = 0\n",
    "    for i in range(N):\n",
    "        X[i] = (H / 2) + i * H + a      \n",
    "        F[i] = np.log(1 / np.abs(xm - X[i])) \n",
    "        sum += F[i]\n",
    "    return sum * H\n",
    "\n",
    "#special integral I\n",
    "def Int(u, v, i, N):\n",
    "    h = u/N\n",
    "    halfH = h/2\n",
    "    z = np.zeros((N, 1))\n",
    "    F = np.zeros((N, 1))\n",
    "    for j in range(N):\n",
    "        z[j] = halfH + j * h\n",
    "           \n",
    "    #middle\n",
    "    def Func(x): \n",
    "        return (np.log(x) * np.power(x, i - 1)) / (np.sqrt(1 - (x + v)*(x + v)))\n",
    "    for j in range(N):\n",
    "        res = Func(z[j])\n",
    "        F[j] = res\n",
    "    \n",
    "    sum = 0\n",
    "    for j in range(N):\n",
    "        sum += F[j]\n",
    "    \n",
    "    interior = h * sum\n",
    "    return interior \n",
    "\n",
    "#beta\n",
    "def beta(xm, h, N):\n",
    "    if xm >= 0 and xm <= h:\n",
    "        return - Int(xm, -xm, 1, N) + (1 / h) * Int(xm, -xm, 2, N) - Int(h, xm, 1, N) + (1 / h) * Int(h, xm, 2, N)\n",
    "    elif xm >= h and xm <= 1 - h:\n",
    "        return - Int(h, -xm, 1, N) + (1 / h) * Int(h, -xm, 2, N) - Int(h, xm, 1, N) + (1 / h) * Int(h, xm, 2, N)\n",
    "    elif xm >= 1 - h and xm <= 1:\n",
    "        return - Int(h, -xm, 1, N) + (1/h) * Int(h, -xm, 2, N) - Int(1-xm, xm, 1, N) + (1 / h) * Int(1-xm, xm, 2, N)\n",
    "    else:\n",
    "        print(\"error\")\n",
    "        return 0"
   ]
  },
  {
   "cell_type": "code",
   "execution_count": 3,
   "metadata": {},
   "outputs": [],
   "source": [
    "def Processing(N):\n",
    "    h = 1 / N\n",
    "\n",
    "    XM = np.zeros((N, 1))\n",
    "    for i in range(N):\n",
    "        XM[i] = 0 + (h / 2) + i * h\n",
    "\n",
    "    SN = np.zeros((N + 1, 1))\n",
    "    for j in range(N + 1):\n",
    "        SN[j] = 0 + j * h\n",
    "    \n",
    "    mat = np.zeros((N, N), dtype = np.complex)\n",
    "    for m in range(N):\n",
    "        for n in range(N):\n",
    "            if n == m:\n",
    "                mat[m, n] = beta(XM[m], h, N) * np.sqrt(1 - XM[m] * XM[m]) + 0 #LEGIT\n",
    "            else:\n",
    "                mat[m, n] = I(SN[n], SN[n + 1], XM[m], N) \n",
    "\n",
    "    right = np.full((N, 1), 1, dtype = np.complex)\n",
    "    \n",
    "    #answer = linalg.solve(mat, right)\n",
    "    \n",
    "    answer, inf = sp.sparse.linalg.bicgstab(mat, right)\n",
    "    print(inf)\n",
    "\n",
    "    res_real = np.real(answer)\n",
    "    \n",
    "    ############part with error\n",
    "    \n",
    "    S = np.zeros((N, 1))\n",
    "    def sln(x):\n",
    "        return 1 / (2 * np.pi * np.log(2) * np.sqrt(x * (1 - x)))\n",
    "    for i in range(N):\n",
    "        S[i] = sln(XM[i])\n",
    "        \n",
    "    error = np.zeros((N, 1))\n",
    "    for i in range(N):\n",
    "        error[i] = np.abs(res_real[i] - S[i])\n",
    "       \n",
    "    print(XM[N//2])\n",
    "    print(XM[3 * N//10])\n",
    "    print(XM[N//10])\n",
    "    \n",
    "    print(\"Error in center = \", error[N//2])\n",
    "    print(\"Error in 0.3 = \", error[3 * N//10])\n",
    "    print(\"Error in 0.1 = \", error[N//10])\n",
    "    \n",
    "    return XM, SN, res_real, S, error, N"
   ]
  },
  {
   "cell_type": "code",
   "execution_count": 4,
   "metadata": {},
   "outputs": [
    {
     "name": "stdout",
     "output_type": "stream",
     "text": [
      "0\n",
      "[0.51666667]\n",
      "[0.31666667]\n",
      "[0.11666667]\n",
      "Error in center =  [0.00094361]\n",
      "Error in 0.3 =  [0.00204112]\n",
      "Error in 0.1 =  [0.02343575]\n"
     ]
    }
   ],
   "source": [
    "res0 = Processing(30)"
   ]
  },
  {
   "cell_type": "code",
   "execution_count": 5,
   "metadata": {},
   "outputs": [
    {
     "name": "stdout",
     "output_type": "stream",
     "text": [
      "0\n",
      "[0.51]\n",
      "[0.31]\n",
      "[0.11]\n",
      "Error in center =  [0.0004601]\n",
      "Error in 0.3 =  [0.00154162]\n",
      "Error in 0.1 =  [0.01441193]\n"
     ]
    }
   ],
   "source": [
    "res1 = Processing(50)"
   ]
  },
  {
   "cell_type": "code",
   "execution_count": 6,
   "metadata": {},
   "outputs": [
    {
     "data": {
      "image/png": "[encoded data removed]",
      "text/plain": [
       "<Figure size 720x288 with 1 Axes>"
      ]
     },
     "metadata": {
      "needs_background": "light"
     },
     "output_type": "display_data"
    }
   ],
   "source": [
    "plt.rcParams.update({'font.size': 15})\n",
    "plt.rcParams.update({'xtick.labelsize': 15})\n",
    "plt.rcParams.update({'ytick.labelsize': 15})\n",
    "\n",
    "plt.rcParams['figure.figsize'] = [10, 4] #took in\n",
    "\n",
    "#plt.plot(res1[0][2: res1[5] - 2], res1[3][2: res1[5] - 2], color = 'red')\n",
    "plt.plot(res1[0][2: res1[5] - 2], res1[2][2: res1[5] - 2], 'bo', color = '0')\n",
    "\n",
    "#plt.xlim(0.0, 0.5)\n",
    "plt.ylim(0.4, 1.2)\n",
    "\n",
    "plt.xlabel(\"x\")\n",
    "plt.ylabel(\"φ(x)\")\n",
    "\n",
    "plt.grid()\n",
    "plt.show()"
   ]
  },
  {
   "cell_type": "code",
   "execution_count": 7,
   "metadata": {},
   "outputs": [
    {
     "name": "stdout",
     "output_type": "stream",
     "text": [
      "0\n",
      "[0.505]\n",
      "[0.305]\n",
      "[0.105]\n",
      "Error in center =  [0.00013262]\n",
      "Error in 0.3 =  [0.00110534]\n",
      "Error in 0.1 =  [0.00899746]\n"
     ]
    }
   ],
   "source": [
    "res2 = Processing(100)"
   ]
  },
  {
   "cell_type": "code",
   "execution_count": 8,
   "metadata": {},
   "outputs": [
    {
     "name": "stdout",
     "output_type": "stream",
     "text": [
      "0\n",
      "[0.5025]\n",
      "[0.3025]\n",
      "[0.1025]\n",
      "Error in center =  [4.39021036e-05]\n",
      "Error in 0.3 =  [0.00064864]\n",
      "Error in 0.1 =  [0.0056078]\n"
     ]
    }
   ],
   "source": [
    "res3 = Processing(200)"
   ]
  },
  {
   "cell_type": "code",
   "execution_count": 9,
   "metadata": {},
   "outputs": [],
   "source": [
    "def residual(sn, results, N):\n",
    "    \n",
    "    x1 = 0.5 + 0.5 * (1/N)\n",
    "    x2 = 0.3 + 0.5 * (1/N)\n",
    "    x3 = 0.1 + 0.5 * (1/N)\n",
    "    print(x1)\n",
    "    print(x2)\n",
    "    print(x3)\n",
    "    \n",
    "    numSln1 = 0\n",
    "    extra = np.zeros((N, 1))\n",
    "    for i in range(N):\n",
    "        numSln1 += results[i] * np.log(1 / np.abs(sn[i] - x1))\n",
    "    numSln1 *= (1/N)\n",
    "    #print(numSln1)\n",
    "    \n",
    "    print(\"Residual in 0.5 = \", np.abs(numSln1 - 1))\n",
    "    \n",
    "    numSln2 = 0\n",
    "    extra = np.zeros((N, 1))\n",
    "    for i in range(N):\n",
    "        numSln2 += results[i] * np.log(1 / np.abs(sn[i] - x2))\n",
    "    numSln2 *= (1/N)\n",
    "    #print(numSln2)\n",
    "    \n",
    "    print(\"Residual in 0.3 = \", np.abs(numSln2 - 1))\n",
    "    \n",
    "    numSln3 = 0\n",
    "    extra = np.zeros((N, 1))\n",
    "    for i in range(N):\n",
    "        numSln3 += results[i] * np.log(1 / np.abs(sn[i] - x3))\n",
    "    numSln3 *= (1/N)\n",
    "    #print(numSln3)\n",
    "    \n",
    "    print(\"Residual in 0.1 = \", np.abs(numSln3 - 1))"
   ]
  },
  {
   "cell_type": "code",
   "execution_count": 10,
   "metadata": {},
   "outputs": [
    {
     "name": "stdout",
     "output_type": "stream",
     "text": [
      "0.5166666666666667\n",
      "0.31666666666666665\n",
      "0.11666666666666667\n",
      "Residual in 0.5 =  [0.007335]\n",
      "Residual in 0.3 =  [0.00771741]\n",
      "Residual in 0.1 =  [0.01044499]\n"
     ]
    }
   ],
   "source": [
    "residual(res0[1], res0[2], res0[5])"
   ]
  },
  {
   "cell_type": "code",
   "execution_count": 11,
   "metadata": {},
   "outputs": [
    {
     "name": "stdout",
     "output_type": "stream",
     "text": [
      "0.51\n",
      "0.31\n",
      "0.11\n",
      "Residual in 0.5 =  [0.00447259]\n",
      "Residual in 0.3 =  [0.00476713]\n",
      "Residual in 0.1 =  [0.00673392]\n"
     ]
    }
   ],
   "source": [
    "residual(res1[1], res1[2], res1[5])"
   ]
  },
  {
   "cell_type": "code",
   "execution_count": 12,
   "metadata": {},
   "outputs": [
    {
     "name": "stdout",
     "output_type": "stream",
     "text": [
      "0.505\n",
      "0.305\n",
      "0.10500000000000001\n",
      "Residual in 0.5 =  [0.00226544]\n",
      "Residual in 0.3 =  [0.00244251]\n",
      "Residual in 0.1 =  [0.00357545]\n"
     ]
    }
   ],
   "source": [
    "residual(res2[1], res2[2], res2[5])"
   ]
  },
  {
   "cell_type": "code",
   "execution_count": 13,
   "metadata": {},
   "outputs": [
    {
     "name": "stdout",
     "output_type": "stream",
     "text": [
      "0.5025\n",
      "0.3025\n",
      "0.10250000000000001\n",
      "Residual in 0.5 =  [0.00114399]\n",
      "Residual in 0.3 =  [0.00122961]\n",
      "Residual in 0.1 =  [0.00184784]\n"
     ]
    }
   ],
   "source": [
    "residual(res3[1], res3[2], res3[5])"
   ]
  },
  {
   "cell_type": "code",
   "execution_count": null,
   "metadata": {},
   "outputs": [],
   "source": []
  }
 ],
 "metadata": {
  "kernelspec": {
   "display_name": "Python 3",
   "language": "python",
   "name": "python3"
  },
  "language_info": {
   "codemirror_mode": {
    "name": "ipython",
    "version": 3
   },
   "file_extension": ".py",
   "mimetype": "text/x-python",
   "name": "python",
   "nbconvert_exporter": "python",
   "pygments_lexer": "ipython3",
   "version": "3.8.3"
  }
 },
 "nbformat": 4,
 "nbformat_minor": 4
}
